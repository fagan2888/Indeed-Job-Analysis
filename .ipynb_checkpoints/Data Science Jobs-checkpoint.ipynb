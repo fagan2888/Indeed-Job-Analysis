{
 "cells": [
  {
   "cell_type": "markdown",
   "metadata": {},
   "source": [
    "# API Resources:\n",
    "###General:\n",
    "http://www.programmableweb.com/category/jobs/apis?category=20080\n",
    "http://www.programmableweb.com/news/70-jobs-apis-indeed-simply-hired-and-careerbuilder/2013/01/23\n",
    "    \n",
    "### Indeed:\n",
    "https://ads.indeed.com/jobroll/xmlfeed\n",
    "\n",
    "### Career Builder:\n",
    "http://developer.careerbuilder.com/endpoints/index#collapse4"
   ]
  },
  {
   "cell_type": "code",
   "execution_count": 1,
   "metadata": {
    "collapsed": true
   },
   "outputs": [],
   "source": [
    "import urllib"
   ]
  },
  {
   "cell_type": "markdown",
   "metadata": {},
   "source": [
    "# Importing Data from INDEED"
   ]
  },
  {
   "cell_type": "code",
   "execution_count": 8,
   "metadata": {
    "collapsed": false
   },
   "outputs": [
    {
     "name": "stdout",
     "output_type": "stream",
     "text": [
      "<?xml version=\"1.0\" encoding=\"UTF-8\" ?>\n",
      "<response version=\"2\">\n",
      "    <results>\n",
      "</results>\n",
      "</response>\n",
      "\n"
     ]
    }
   ],
   "source": [
    "url = \"http://api.indeed.com/ads/apigetjobs?publisher=736576191333974&jobkeys=5e50b56a7e69073c&v=2\"\n",
    "url_handle = urllib.urlopen(url)\n",
    "\n",
    "xml_string = url_handle.read()\n",
    "\n",
    "print xml_string"
   ]
  },
  {
   "cell_type": "code",
   "execution_count": null,
   "metadata": {
    "collapsed": false
   },
   "outputs": [],
   "source": []
  },
  {
   "cell_type": "code",
   "execution_count": null,
   "metadata": {
    "collapsed": true
   },
   "outputs": [],
   "source": []
  }
 ],
 "metadata": {
  "kernelspec": {
   "display_name": "Python 2",
   "language": "python",
   "name": "python2"
  },
  "language_info": {
   "codemirror_mode": {
    "name": "ipython",
    "version": 2
   },
   "file_extension": ".py",
   "mimetype": "text/x-python",
   "name": "python",
   "nbconvert_exporter": "python",
   "pygments_lexer": "ipython2",
   "version": "2.7.10"
  }
 },
 "nbformat": 4,
 "nbformat_minor": 0
}
